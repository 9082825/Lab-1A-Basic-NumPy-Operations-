{
 "cells": [
  {
   "cell_type": "markdown",
   "id": "af5e97b6",
   "metadata": {},
   "source": [
    "Solution to Lab 1\n",
    "\n",
    "This section identifies imported packages"
   ]
  },
  {
   "cell_type": "code",
   "execution_count": 31,
   "id": "ca7ee4e1",
   "metadata": {},
   "outputs": [],
   "source": [
    "import numpy as np\n",
    "import random as rd\n",
    "\n",
    "from IPython.core.interactiveshell import InteractiveShell\n",
    "InteractiveShell.ast_node_interactivity = \"all\""
   ]
  },
  {
   "cell_type": "markdown",
   "id": "a8123f29",
   "metadata": {},
   "source": [
    "Part A\n",
    "Question 1"
   ]
  },
  {
   "cell_type": "code",
   "execution_count": null,
   "id": "d72b38fa",
   "metadata": {},
   "outputs": [
    {
     "data": {
      "text/plain": [
       "array([ 1,  4,  7, 10, 13, 16, 19])"
      ]
     },
     "execution_count": 32,
     "metadata": {},
     "output_type": "execute_result"
    }
   ],
   "source": [
    "array_jg_1 = np.arange(1,21,3)\n",
    "array_jg_1"
   ]
  },
  {
   "cell_type": "markdown",
   "id": "9371e246",
   "metadata": {},
   "source": [
    "Question 2"
   ]
  },
  {
   "cell_type": "code",
   "execution_count": null,
   "id": "1663b106",
   "metadata": {},
   "outputs": [
    {
     "data": {
      "text/plain": [
       "array([0.51639863, 0.57066759, 0.02847423])"
      ]
     },
     "execution_count": 33,
     "metadata": {},
     "output_type": "execute_result"
    }
   ],
   "source": [
    "np.random.seed(101)\n",
    "array_jg_2 = np.random.rand(3)\n",
    "array_jg_2"
   ]
  },
  {
   "cell_type": "markdown",
   "id": "6d6ad4b7",
   "metadata": {},
   "source": [
    "Question 3"
   ]
  },
  {
   "cell_type": "code",
   "execution_count": null,
   "id": "1afdd16b",
   "metadata": {},
   "outputs": [
    {
     "data": {
      "text/plain": [
       "array([[10, 20, 45],\n",
       "       [30, 12, 16],\n",
       "       [42, 17, 56]])"
      ]
     },
     "execution_count": 34,
     "metadata": {},
     "output_type": "execute_result"
    },
    {
     "data": {
      "text/plain": [
       "array([[10, 20, 45],\n",
       "       [30, 12, 16]])"
      ]
     },
     "execution_count": 34,
     "metadata": {},
     "output_type": "execute_result"
    },
    {
     "data": {
      "text/plain": [
       "array([[30, 12, 16],\n",
       "       [42, 17, 56]])"
      ]
     },
     "execution_count": 34,
     "metadata": {},
     "output_type": "execute_result"
    }
   ],
   "source": [
    "tdarray_jg = np.array([[10,20,45],[30,12,16],[42,17,56]])\n",
    "tdarray_jg\n",
    "\n",
    "tdarray_jg[:2,:]\n",
    "tdarray_jg[1:,:]"
   ]
  },
  {
   "cell_type": "markdown",
   "id": "76403af9",
   "metadata": {},
   "source": [
    "Question 4"
   ]
  },
  {
   "cell_type": "code",
   "execution_count": null,
   "id": "5303a279",
   "metadata": {},
   "outputs": [
    {
     "data": {
      "text/plain": [
       "array([[1, 2],\n",
       "       [3, 4]])"
      ]
     },
     "execution_count": 35,
     "metadata": {},
     "output_type": "execute_result"
    },
    {
     "data": {
      "text/plain": [
       "array([[5, 6],\n",
       "       [7, 8]])"
      ]
     },
     "execution_count": 35,
     "metadata": {},
     "output_type": "execute_result"
    },
    {
     "data": {
      "text/plain": [
       "array([[1, 2],\n",
       "       [3, 4],\n",
       "       [5, 6],\n",
       "       [7, 8]])"
      ]
     },
     "execution_count": 35,
     "metadata": {},
     "output_type": "execute_result"
    },
    {
     "data": {
      "text/plain": [
       "array([[1, 2, 5, 6],\n",
       "       [3, 4, 7, 8]])"
      ]
     },
     "execution_count": 35,
     "metadata": {},
     "output_type": "execute_result"
    },
    {
     "data": {
      "text/plain": [
       "[array([[1, 2, 5, 6]]), array([[3, 4, 7, 8]])]"
      ]
     },
     "execution_count": 35,
     "metadata": {},
     "output_type": "execute_result"
    }
   ],
   "source": [
    "A_jg = np.array([[1,2],[3,4]])\n",
    "B_jg = np.array([[5,6],[7,8]])\n",
    "\n",
    "A_jg\n",
    "B_jg\n",
    "vab_jg = np.vstack((A_jg,B_jg))\n",
    "vab_jg\n",
    "\n",
    "hab_jg= np.hstack((A_jg,B_jg))\n",
    "hab_jg\n",
    "\n",
    "np.vsplit(hab_jg,2)"
   ]
  },
  {
   "cell_type": "markdown",
   "id": "47cb87e5",
   "metadata": {},
   "source": [
    "Question 5"
   ]
  },
  {
   "cell_type": "code",
   "execution_count": null,
   "id": "0df516bd",
   "metadata": {},
   "outputs": [
    {
     "data": {
      "text/plain": [
       "array([[5, 7, 2],\n",
       "       [4, 5, 6],\n",
       "       [7, 4, 2]])"
      ]
     },
     "execution_count": 36,
     "metadata": {},
     "output_type": "execute_result"
    },
    {
     "data": {
      "text/plain": [
       "array([[4, 2],\n",
       "       [6, 2],\n",
       "       [4, 2]])"
      ]
     },
     "execution_count": 36,
     "metadata": {},
     "output_type": "execute_result"
    },
    {
     "data": {
      "text/plain": [
       "array([[70, 28],\n",
       "       [70, 30],\n",
       "       [60, 26]])"
      ]
     },
     "execution_count": 36,
     "metadata": {},
     "output_type": "execute_result"
    }
   ],
   "source": [
    "X_jg = np.array([[5,7,2],[4,5,6],[7,4,2]])\n",
    "Y_jg = np.array([[4,2],[6,2],[4,2]])\n",
    "X_jg\n",
    "Y_jg\n",
    "np.dot(X_jg,Y_jg)\n",
    "\n"
   ]
  },
  {
   "cell_type": "markdown",
   "id": "c4b65ae4",
   "metadata": {},
   "source": [
    "Question 6"
   ]
  },
  {
   "cell_type": "code",
   "execution_count": null,
   "id": "8a518176",
   "metadata": {},
   "outputs": [
    {
     "data": {
      "text/plain": [
       "array([ 2, -1, -8])"
      ]
     },
     "execution_count": 37,
     "metadata": {},
     "output_type": "execute_result"
    },
    {
     "data": {
      "text/plain": [
       "array([ 3,  2, -1])"
      ]
     },
     "execution_count": 37,
     "metadata": {},
     "output_type": "execute_result"
    },
    {
     "data": {
      "text/plain": [
       "(3,)"
      ]
     },
     "execution_count": 37,
     "metadata": {},
     "output_type": "execute_result"
    },
    {
     "data": {
      "text/plain": [
       "3"
      ]
     },
     "execution_count": 37,
     "metadata": {},
     "output_type": "execute_result"
    },
    {
     "data": {
      "text/plain": [
       "1"
      ]
     },
     "execution_count": 37,
     "metadata": {},
     "output_type": "execute_result"
    },
    {
     "data": {
      "text/plain": [
       "array([[ 2],\n",
       "       [-1],\n",
       "       [-8]])"
      ]
     },
     "execution_count": 37,
     "metadata": {},
     "output_type": "execute_result"
    },
    {
     "data": {
      "text/plain": [
       "(3, 1)"
      ]
     },
     "execution_count": 37,
     "metadata": {},
     "output_type": "execute_result"
    },
    {
     "data": {
      "text/plain": [
       "3"
      ]
     },
     "execution_count": 37,
     "metadata": {},
     "output_type": "execute_result"
    },
    {
     "data": {
      "text/plain": [
       "2"
      ]
     },
     "execution_count": 37,
     "metadata": {},
     "output_type": "execute_result"
    }
   ],
   "source": [
    "X_jg = np.array([2,-1,-8])\n",
    "Y_jg = np.array([3,2,-1])\n",
    "\n",
    "X_jg\n",
    "Y_jg\n",
    "\n",
    "X_jg.shape\n",
    "X_jg.size\n",
    "X_jg.ndim\n",
    "\n",
    "Xn_jg = X_jg.reshape(3,1)\n",
    "Yn_jg = Y_jg.reshape(3,1)\n",
    "\n",
    "Xn_jg\n",
    "Xn_jg.shape\n",
    "Xn_jg.size\n",
    "Xn_jg.ndim"
   ]
  },
  {
   "cell_type": "markdown",
   "id": "40772ec1",
   "metadata": {},
   "source": [
    "Question 7"
   ]
  },
  {
   "cell_type": "code",
   "execution_count": null,
   "id": "2e5714a8",
   "metadata": {},
   "outputs": [
    {
     "data": {
      "text/plain": [
       "array([[1, 2, 3],\n",
       "       [4, 5, 6],\n",
       "       [7, 8, 9]])"
      ]
     },
     "execution_count": 38,
     "metadata": {},
     "output_type": "execute_result"
    },
    {
     "data": {
      "text/plain": [
       "array([[-3, -2, -1]])"
      ]
     },
     "execution_count": 38,
     "metadata": {},
     "output_type": "execute_result"
    },
    {
     "data": {
      "text/plain": [
       "array([[ 4,  4,  4],\n",
       "       [ 7,  7,  7],\n",
       "       [10, 10, 10]])"
      ]
     },
     "execution_count": 38,
     "metadata": {},
     "output_type": "execute_result"
    }
   ],
   "source": [
    "#Broadcasting Exllanation\n",
    "\n",
    "D_jg = np.array([[1,2,3],[4,5,6],[7,8,9]])\n",
    "D_jg\n",
    "\n",
    "E_jg = np.array([[-3,-2,-1]])\n",
    "E_jg\n",
    "\n",
    "D_jg - E_jg\n",
    "\n",
    "#F_jg = np.array([[2,3,4],[5,6,7][8,9,10]])\n",
    "\n",
    "#D_jg - F_jg\n",
    "\n",
    "#D_jg*E_jg\n"
   ]
  },
  {
   "cell_type": "markdown",
   "id": "5c24d1b2",
   "metadata": {},
   "source": [
    "Part B"
   ]
  },
  {
   "cell_type": "markdown",
   "id": "50c33a52",
   "metadata": {},
   "source": [
    "Question 1"
   ]
  },
  {
   "cell_type": "code",
   "execution_count": null,
   "id": "128aeb44",
   "metadata": {},
   "outputs": [
    {
     "data": {
      "text/plain": [
       "array([[ 4,  1, -2],\n",
       "       [ 2, -3,  2],\n",
       "       [ 1,  2,  3]])"
      ]
     },
     "execution_count": 39,
     "metadata": {},
     "output_type": "execute_result"
    },
    {
     "data": {
      "text/plain": [
       "np.float64(-70.00000000000003)"
      ]
     },
     "execution_count": 39,
     "metadata": {},
     "output_type": "execute_result"
    },
    {
     "data": {
      "text/plain": [
       "array([10, -4,  6])"
      ]
     },
     "execution_count": 39,
     "metadata": {},
     "output_type": "execute_result"
    },
    {
     "data": {
      "text/plain": [
       "array([ 1.8,  2.4, -0.2])"
      ]
     },
     "execution_count": 39,
     "metadata": {},
     "output_type": "execute_result"
    }
   ],
   "source": [
    "\n",
    "A_jg = np.array([[4, 1, -2],[2, -3, 2],[1, 2, 3]])\n",
    "A_jg\n",
    "np.linalg.det(A_jg)\n",
    "B_jg = np.array([10,-4,6])\n",
    "B_jg\n",
    "\n",
    "np.linalg.solve(A_jg,B_jg)\n"
   ]
  },
  {
   "cell_type": "markdown",
   "id": "8efe60f2",
   "metadata": {},
   "source": [
    "Question 2"
   ]
  },
  {
   "cell_type": "code",
   "execution_count": null,
   "id": "b914ef15",
   "metadata": {},
   "outputs": [
    {
     "data": {
      "text/plain": [
       "array([[ 2, -1,  3,  4],\n",
       "       [ 4, -2,  6,  8],\n",
       "       [ 3,  1, -2,  2],\n",
       "       [ 1,  3, -4,  1]])"
      ]
     },
     "execution_count": 40,
     "metadata": {},
     "output_type": "execute_result"
    },
    {
     "data": {
      "text/plain": [
       "array([10, 20,  3, -1])"
      ]
     },
     "execution_count": 40,
     "metadata": {},
     "output_type": "execute_result"
    },
    {
     "data": {
      "text/plain": [
       "np.float64(0.0)"
      ]
     },
     "execution_count": 40,
     "metadata": {},
     "output_type": "execute_result"
    }
   ],
   "source": [
    "A2_jg = np.array([[2,-1,3,4],[4,-2,6,8],[3,1,-2,2],[1,3,-4,1]])\n",
    "A2_jg\n",
    "B2_jg = np.array([10,20,3,-1])\n",
    "B2_jg\n",
    "\n",
    "np.linalg.det(A2_jg)\n",
    "#np.linalg.solve(A2_jg,B2_jg)\n"
   ]
  }
 ],
 "metadata": {
  "kernelspec": {
   "display_name": ".venv",
   "language": "python",
   "name": "python3"
  },
  "language_info": {
   "codemirror_mode": {
    "name": "ipython",
    "version": 3
   },
   "file_extension": ".py",
   "mimetype": "text/x-python",
   "name": "python",
   "nbconvert_exporter": "python",
   "pygments_lexer": "ipython3",
   "version": "3.13.7"
  }
 },
 "nbformat": 4,
 "nbformat_minor": 5
}
