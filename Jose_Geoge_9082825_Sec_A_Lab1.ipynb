{
 "cells": [
  {
   "cell_type": "markdown",
   "id": "af5e97b6",
   "metadata": {},
   "source": [
    "Solution to Lab 1\n",
    "\n",
    "This section identifies imported packages"
   ]
  },
  {
   "cell_type": "code",
   "execution_count": 1,
   "id": "ca7ee4e1",
   "metadata": {},
   "outputs": [],
   "source": [
    "import numpy as np\n",
    "import random as rd\n",
    "\n",
    "from IPython.core.interactiveshell import InteractiveShell\n",
    "InteractiveShell.ast_node_interactivity = \"all\""
   ]
  },
  {
   "cell_type": "markdown",
   "id": "a8123f29",
   "metadata": {},
   "source": [
    "Part A\n",
    "Question 1"
   ]
  },
  {
   "cell_type": "code",
   "execution_count": 4,
   "id": "d72b38fa",
   "metadata": {},
   "outputs": [
    {
     "data": {
      "text/plain": [
       "array([ 1,  4,  7, 10, 13, 16, 19])"
      ]
     },
     "execution_count": 4,
     "metadata": {},
     "output_type": "execute_result"
    }
   ],
   "source": [
    "array_dm_1 = np.arange(1,21,3)\n",
    "array_dm_1"
   ]
  },
  {
   "cell_type": "markdown",
   "id": "9371e246",
   "metadata": {},
   "source": [
    "Question 2"
   ]
  },
  {
   "cell_type": "code",
   "execution_count": 5,
   "id": "1663b106",
   "metadata": {},
   "outputs": [
    {
     "data": {
      "text/plain": [
       "array([0.51639863, 0.57066759, 0.02847423])"
      ]
     },
     "execution_count": 5,
     "metadata": {},
     "output_type": "execute_result"
    }
   ],
   "source": [
    "np.random.seed(101)\n",
    "array_dm_2 = np.random.rand(3)\n",
    "array_dm_2"
   ]
  },
  {
   "cell_type": "markdown",
   "id": "6d6ad4b7",
   "metadata": {},
   "source": [
    "Question 3"
   ]
  },
  {
   "cell_type": "code",
   "execution_count": 9,
   "id": "1afdd16b",
   "metadata": {},
   "outputs": [
    {
     "data": {
      "text/plain": [
       "array([[10, 20, 45],\n",
       "       [30, 12, 16],\n",
       "       [42, 17, 56]])"
      ]
     },
     "execution_count": 9,
     "metadata": {},
     "output_type": "execute_result"
    },
    {
     "data": {
      "text/plain": [
       "array([[10, 20, 45],\n",
       "       [30, 12, 16]])"
      ]
     },
     "execution_count": 9,
     "metadata": {},
     "output_type": "execute_result"
    },
    {
     "data": {
      "text/plain": [
       "array([[30, 12, 16],\n",
       "       [42, 17, 56]])"
      ]
     },
     "execution_count": 9,
     "metadata": {},
     "output_type": "execute_result"
    }
   ],
   "source": [
    "tdarray_dm = np.array([[10,20,45],[30,12,16],[42,17,56]])\n",
    "tdarray_dm\n",
    "\n",
    "tdarray_dm[:2,:]\n",
    "tdarray_dm[1:,:]"
   ]
  },
  {
   "cell_type": "markdown",
   "id": "76403af9",
   "metadata": {},
   "source": [
    "Question 4"
   ]
  },
  {
   "cell_type": "code",
   "execution_count": 12,
   "id": "5303a279",
   "metadata": {},
   "outputs": [
    {
     "data": {
      "text/plain": [
       "array([[1, 2],\n",
       "       [3, 4]])"
      ]
     },
     "execution_count": 12,
     "metadata": {},
     "output_type": "execute_result"
    },
    {
     "data": {
      "text/plain": [
       "array([[5, 6],\n",
       "       [7, 8]])"
      ]
     },
     "execution_count": 12,
     "metadata": {},
     "output_type": "execute_result"
    },
    {
     "data": {
      "text/plain": [
       "array([[1, 2],\n",
       "       [3, 4],\n",
       "       [5, 6],\n",
       "       [7, 8]])"
      ]
     },
     "execution_count": 12,
     "metadata": {},
     "output_type": "execute_result"
    },
    {
     "data": {
      "text/plain": [
       "array([[1, 2, 5, 6],\n",
       "       [3, 4, 7, 8]])"
      ]
     },
     "execution_count": 12,
     "metadata": {},
     "output_type": "execute_result"
    },
    {
     "data": {
      "text/plain": [
       "[array([[1, 2, 5, 6]]), array([[3, 4, 7, 8]])]"
      ]
     },
     "execution_count": 12,
     "metadata": {},
     "output_type": "execute_result"
    }
   ],
   "source": [
    "A_dm = np.array([[1,2],[3,4]])\n",
    "B_dm = np.array([[5,6],[7,8]])\n",
    "\n",
    "A_dm\n",
    "B_dm\n",
    "vab_dn = np.vstack((A_dm,B_dm))\n",
    "vab_dn\n",
    "\n",
    "hab_dn= np.hstack((A_dm,B_dm))\n",
    "hab_dn\n",
    "\n",
    "np.vsplit(hab_dn,2)"
   ]
  },
  {
   "cell_type": "markdown",
   "id": "47cb87e5",
   "metadata": {},
   "source": [
    "Question 5"
   ]
  },
  {
   "cell_type": "code",
   "execution_count": 17,
   "id": "0df516bd",
   "metadata": {},
   "outputs": [
    {
     "data": {
      "text/plain": [
       "array([[5, 7, 2],\n",
       "       [4, 5, 6],\n",
       "       [7, 4, 2]])"
      ]
     },
     "execution_count": 17,
     "metadata": {},
     "output_type": "execute_result"
    },
    {
     "data": {
      "text/plain": [
       "array([[4, 2],\n",
       "       [6, 2],\n",
       "       [4, 2]])"
      ]
     },
     "execution_count": 17,
     "metadata": {},
     "output_type": "execute_result"
    },
    {
     "data": {
      "text/plain": [
       "array([[70, 28],\n",
       "       [70, 30],\n",
       "       [60, 26]])"
      ]
     },
     "execution_count": 17,
     "metadata": {},
     "output_type": "execute_result"
    }
   ],
   "source": [
    "X_dm = np.array([[5,7,2],[4,5,6],[7,4,2]])\n",
    "Y_dm = np.array([[4,2],[6,2],[4,2]])\n",
    "X_dm\n",
    "Y_dm\n",
    "np.dot(X_dm,Y_dm)\n",
    "#np.dot(Y_dm,X_dm)\n",
    "\n"
   ]
  },
  {
   "cell_type": "markdown",
   "id": "c4b65ae4",
   "metadata": {},
   "source": [
    "Question 6"
   ]
  },
  {
   "cell_type": "code",
   "execution_count": 21,
   "id": "8a518176",
   "metadata": {},
   "outputs": [
    {
     "data": {
      "text/plain": [
       "array([ 2, -1, -8])"
      ]
     },
     "execution_count": 21,
     "metadata": {},
     "output_type": "execute_result"
    },
    {
     "data": {
      "text/plain": [
       "array([ 3,  2, -1])"
      ]
     },
     "execution_count": 21,
     "metadata": {},
     "output_type": "execute_result"
    },
    {
     "data": {
      "text/plain": [
       "(3,)"
      ]
     },
     "execution_count": 21,
     "metadata": {},
     "output_type": "execute_result"
    },
    {
     "data": {
      "text/plain": [
       "3"
      ]
     },
     "execution_count": 21,
     "metadata": {},
     "output_type": "execute_result"
    },
    {
     "data": {
      "text/plain": [
       "1"
      ]
     },
     "execution_count": 21,
     "metadata": {},
     "output_type": "execute_result"
    },
    {
     "data": {
      "text/plain": [
       "array([[ 2],\n",
       "       [-1],\n",
       "       [-8]])"
      ]
     },
     "execution_count": 21,
     "metadata": {},
     "output_type": "execute_result"
    },
    {
     "data": {
      "text/plain": [
       "(3, 1)"
      ]
     },
     "execution_count": 21,
     "metadata": {},
     "output_type": "execute_result"
    },
    {
     "data": {
      "text/plain": [
       "3"
      ]
     },
     "execution_count": 21,
     "metadata": {},
     "output_type": "execute_result"
    },
    {
     "data": {
      "text/plain": [
       "2"
      ]
     },
     "execution_count": 21,
     "metadata": {},
     "output_type": "execute_result"
    }
   ],
   "source": [
    "X_dm = np.array([2,-1,-8])\n",
    "Y_dm = np.array([3,2,-1])\n",
    "\n",
    "X_dm\n",
    "Y_dm\n",
    "\n",
    "X_dm.shape\n",
    "X_dm.size\n",
    "X_dm.ndim\n",
    "\n",
    "Xn_dm = X_dm.reshape(3,1)\n",
    "Yn_dm = Y_dm.reshape(3,1)\n",
    "\n",
    "Xn_dm\n",
    "Xn_dm.shape\n",
    "Xn_dm.size\n",
    "Xn_dm.ndim"
   ]
  },
  {
   "cell_type": "markdown",
   "id": "40772ec1",
   "metadata": {},
   "source": [
    "Question 7"
   ]
  },
  {
   "cell_type": "code",
   "execution_count": 24,
   "id": "2e5714a8",
   "metadata": {},
   "outputs": [
    {
     "data": {
      "text/plain": [
       "array([[1, 2, 3],\n",
       "       [4, 5, 6],\n",
       "       [7, 8, 9]])"
      ]
     },
     "execution_count": 24,
     "metadata": {},
     "output_type": "execute_result"
    },
    {
     "data": {
      "text/plain": [
       "array([[-3, -2, -1]])"
      ]
     },
     "execution_count": 24,
     "metadata": {},
     "output_type": "execute_result"
    },
    {
     "data": {
      "text/plain": [
       "array([[ 4,  4,  4],\n",
       "       [ 7,  7,  7],\n",
       "       [10, 10, 10]])"
      ]
     },
     "execution_count": 24,
     "metadata": {},
     "output_type": "execute_result"
    }
   ],
   "source": [
    "#Broadcasting Exllanation\n",
    "\n",
    "D_dm = np.array([[1,2,3],[4,5,6],[7,8,9]])\n",
    "D_dm\n",
    "\n",
    "E_dm = np.array([[-3,-2,-1]])\n",
    "E_dm\n",
    "\n",
    "D_dm - E_dm\n",
    "\n",
    "#F_dm = np.array([[2,3,4],[5,6,7][8,9,10]])\n",
    "\n",
    "#D_dm - F_dm\n",
    "\n",
    "#D_dm*E_dm\n"
   ]
  },
  {
   "cell_type": "markdown",
   "id": "5c24d1b2",
   "metadata": {},
   "source": [
    "Part B"
   ]
  },
  {
   "cell_type": "markdown",
   "id": "50c33a52",
   "metadata": {},
   "source": [
    "Question 1"
   ]
  },
  {
   "cell_type": "code",
   "execution_count": null,
   "id": "128aeb44",
   "metadata": {},
   "outputs": [
    {
     "data": {
      "text/plain": [
       "array([[ 4,  1, -2],\n",
       "       [ 2, -3,  2],\n",
       "       [ 1,  2,  3]])"
      ]
     },
     "execution_count": 26,
     "metadata": {},
     "output_type": "execute_result"
    },
    {
     "data": {
      "text/plain": [
       "np.float64(-70.00000000000003)"
      ]
     },
     "execution_count": 26,
     "metadata": {},
     "output_type": "execute_result"
    },
    {
     "data": {
      "text/plain": [
       "array([10, -4,  6])"
      ]
     },
     "execution_count": 26,
     "metadata": {},
     "output_type": "execute_result"
    },
    {
     "data": {
      "text/plain": [
       "array([ 1.8,  2.4, -0.2])"
      ]
     },
     "execution_count": 26,
     "metadata": {},
     "output_type": "execute_result"
    }
   ],
   "source": [
    "\n",
    "A_dm = np.array([[4, 1, -2],[2, -3, 2],[1, 2, 3]])\n",
    "A_dm\n",
    "np.linalg.det(A_dm)\n",
    "B_dm = np.array([10,-4,6])\n",
    "B_dm\n",
    "\n",
    "np.linalg.solve(A_dm,B_dm)\n"
   ]
  },
  {
   "cell_type": "markdown",
   "id": "8efe60f2",
   "metadata": {},
   "source": [
    "Question 2"
   ]
  },
  {
   "cell_type": "code",
   "execution_count": 30,
   "id": "b914ef15",
   "metadata": {},
   "outputs": [
    {
     "data": {
      "text/plain": [
       "array([[ 2, -1,  3,  4],\n",
       "       [ 4, -2,  6,  8],\n",
       "       [ 3,  1, -2,  2],\n",
       "       [ 1,  3, -4,  1]])"
      ]
     },
     "execution_count": 30,
     "metadata": {},
     "output_type": "execute_result"
    },
    {
     "data": {
      "text/plain": [
       "array([10, 20,  3, -1])"
      ]
     },
     "execution_count": 30,
     "metadata": {},
     "output_type": "execute_result"
    },
    {
     "data": {
      "text/plain": [
       "np.float64(0.0)"
      ]
     },
     "execution_count": 30,
     "metadata": {},
     "output_type": "execute_result"
    }
   ],
   "source": [
    "A2_dm = np.array([[2,-1,3,4],[4,-2,6,8],[3,1,-2,2],[1,3,-4,1]])\n",
    "A2_dm\n",
    "B2_dm = np.array([10,20,3,-1])\n",
    "B2_dm\n",
    "\n",
    "np.linalg.det(A2_dm)\n",
    "#np.linalg.solve(A2_dm,B2_dm)\n"
   ]
  }
 ],
 "metadata": {
  "kernelspec": {
   "display_name": ".venv",
   "language": "python",
   "name": "python3"
  },
  "language_info": {
   "codemirror_mode": {
    "name": "ipython",
    "version": 3
   },
   "file_extension": ".py",
   "mimetype": "text/x-python",
   "name": "python",
   "nbconvert_exporter": "python",
   "pygments_lexer": "ipython3",
   "version": "3.13.7"
  }
 },
 "nbformat": 4,
 "nbformat_minor": 5
}
